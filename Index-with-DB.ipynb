{
 "cells": [
  {
   "cell_type": "code",
   "execution_count": 25,
   "id": "634fb22d",
   "metadata": {},
   "outputs": [
    {
     "name": "stdout",
     "output_type": "stream",
     "text": [
      "[[-0.00928653  0.00186054 -0.02263714 ... -0.01674812 -0.00685327\n",
      "  -0.01055494]\n",
      " [-0.01629999  0.00237545 -0.00908385 ... -0.01844198 -0.01731874\n",
      "  -0.00446682]\n",
      " [-0.01924564  0.00535853 -0.0083033  ... -0.01169543 -0.0124807\n",
      "  -0.02541197]]\n",
      "0.94135267\n",
      "PII\n"
     ]
    }
   ],
   "source": [
    "import numpy as np\n",
    "import faiss\n",
    "import psycopg2\n",
    "import openai\n",
    "\n",
    "openai.api_key = \"xxxx\"\n",
    "\n",
    "# Define the function to generate embeddings\n",
    "def get_embedding(text, model=\"text-embedding-ada-002\"):\n",
    "    text = text.replace(\"\\n\", \" \")\n",
    "    return openai.Embedding.create(input=[text], model=model)[\"data\"][0][\"embedding\"]\n",
    "\n",
    "# Define the texts for which we want to generate embeddings\n",
    "texts = [\"This is the first text.\", \"This is the second text.\", \"And this is the third text.\"]\n",
    "\n",
    "# Generate embeddings for the texts\n",
    "embeddings = np.array([get_embedding(text) for text in texts])\n",
    "print(embeddings)\n",
    "\n",
    "# Store the embeddings in a Faiss index\n",
    "index = faiss.IndexFlatIP(embeddings.shape[1])\n",
    "index.add(embeddings)\n",
    "\n",
    "# Create a PostgreSQL database and table\n",
    "conn = psycopg2.connect(\n",
    "    host=\"localhost\",\n",
    "    database=\"postgres\",\n",
    "    user=\"postgres\",\n",
    "    password=\"xxxxxx\"\n",
    ")\n",
    "\n",
    "cur = conn.cursor()\n",
    "cur.execute(\"CREATE TABLE IF NOT EXISTS piidetection (id SERIAL PRIMARY KEY, embedding bytea);\")\n",
    "conn.commit()\n",
    "\n",
    "# Insert the Faiss index into the database\n",
    "embedding_bytes = embeddings.tobytes()\n",
    "cur.execute(\"INSERT INTO piidetection (embedding) VALUES (%s);\", (psycopg2.Binary(embedding_bytes),))\n",
    "conn.commit()\n",
    "\n",
    "# Define a function to perform search based on similarity score\n",
    "def search(query, k=1):\n",
    "    # Retrieve the Faiss index from the database\n",
    "    cur.execute(\"SELECT embedding FROM piidetection WHERE id = 1;\")\n",
    "    embedding_bytes = cur.fetchone()[0]\n",
    "    retrieved_embeddings = np.frombuffer(embedding_bytes, dtype=np.float32).reshape((-1, embeddings.shape[1]))\n",
    "\n",
    "    # Search the Faiss index\n",
    "    query_embedding = get_embedding(query)\n",
    "    distances, indices = index.search(np.array([query_embedding]), k)\n",
    "    return [(texts[i], distances[0][j]) for j, i in enumerate(indices[0])]\n",
    "\n",
    "# Perform a search based on similarity score\n",
    "results = search(\"This is a text.\")\n",
    "print(results[0][1])\n",
    "\n",
    "if(results[0][1] > 0.85):\n",
    "    print(\"PII\")\n",
    "else:\n",
    "    print(\"Non-PII\")\n",
    "\n",
    "# Close the cursor and the connection\n",
    "cursor.close()\n",
    "conn.close()\n"
   ]
  },
  {
   "cell_type": "code",
   "execution_count": null,
   "id": "7218ff4d",
   "metadata": {},
   "outputs": [],
   "source": []
  }
 ],
 "metadata": {
  "kernelspec": {
   "display_name": "Python 3 (ipykernel)",
   "language": "python",
   "name": "python3"
  },
  "language_info": {
   "codemirror_mode": {
    "name": "ipython",
    "version": 3
   },
   "file_extension": ".py",
   "mimetype": "text/x-python",
   "name": "python",
   "nbconvert_exporter": "python",
   "pygments_lexer": "ipython3",
   "version": "3.9.15"
  }
 },
 "nbformat": 4,
 "nbformat_minor": 5
}
