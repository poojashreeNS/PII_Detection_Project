{
 "cells": [
  {
   "cell_type": "code",
   "execution_count": 17,
   "id": "59fe0cb9",
   "metadata": {},
   "outputs": [
    {
     "name": "stdout",
     "output_type": "stream",
     "text": [
      "[[-0.01583775  0.01085611  0.02609865 ... -0.00462905 -0.00321543\n",
      "  -0.0313132 ]\n",
      " [-0.02218292 -0.00251366  0.00988183 ... -0.0215685  -0.01310751\n",
      "  -0.01391392]\n",
      " [-0.0192842  -0.00636998  0.00838359 ... -0.03022998 -0.02252405\n",
      "  -0.00965501]]\n",
      "Non-PII\n"
     ]
    }
   ],
   "source": [
    "import numpy as np\n",
    "import faiss\n",
    "import psycopg2\n",
    "import openai\n",
    "\n",
    "openai.api_key = \"xxxxx\"\n",
    "\n",
    "# Define the function to generate embeddings\n",
    "def get_embedding(text, model=\"text-embedding-ada-002\"):\n",
    "    text = text.replace(\"\\n\", \" \")\n",
    "    return openai.Embedding.create(input=[text], model=model)[\"data\"][0][\"embedding\"]\n",
    "\n",
    "# Define the texts for which we want to generate embeddings\n",
    "texts = [\"Ashley Lee, a 25-year-old woman from Florida, went to the doctor for a medical issue. She provided her name, address, and medical history to the healthcare provider. Later, she discovered that her medical records had been compromised and her information was being sold on the dark web.\",\n",
    "         \"Samantha Jones from New York, received a phone call from someone claiming to be from her bank. They asked for her name, address, and social security number to verify her account. She became suspicious and hung up, then reported the call to her bank.\",\n",
    "         \"Mark Davis, a 42-year-old man from Texas, applied for a job online. He provided his name, address, phone number, and resume to the company. Unfortunately, the company turned out to be a scam and stole his identity.\"]\n",
    "\n",
    "# Generate embeddings for the texts\n",
    "embeddings = np.array([get_embedding(text) for text in texts])\n",
    "\n",
    "# Define the path to the index file\n",
    "index_path = \"vector.index\"\n",
    "\n",
    "# Check if the index file exists\n",
    "if os.path.isfile(index_path):\n",
    "    # Load the index from the file\n",
    "    index = faiss.read_index(index_path)\n",
    "else:\n",
    "    # Create a new index\n",
    "    index = faiss.IndexFlatIP(embeddings.shape[1])\n",
    "\n",
    "# Add the embeddings to the index\n",
    "index.add(embeddings)\n",
    "\n",
    "# Save the index to the file\n",
    "faiss.write_index(index, index_path)\n",
    "\n",
    "# Define a function to perform search based on similarity score\n",
    "def search(query, k=1):\n",
    "    # Retrieve the Faiss index from the .index file\n",
    "    index_retrieved = faiss.read_index(\"vector.index\")\n",
    "\n",
    "    # Search the Faiss index\n",
    "    query_embedding = get_embedding(query)\n",
    "    distances, indices = index_retrieved.search(np.array([query_embedding]), k)\n",
    "    return [(texts[i], distances[0][j]) for j, i in enumerate(indices[0])]\n",
    "\n",
    "\n",
    "# Perform a search based on similarity score\n",
    "query = \"Jessica, is a business women while travelling. she lost her personal belongings on a crowded bus.\"\n",
    "results = search(query)\n",
    "\n",
    "if(results[0][1] > 0.85):\n",
    "    print(f\"The query '{query}' matches the following text with similarity score {results[0][1]}: {results[0][0]}\")\n",
    "else:\n",
    "    print(\"Non-PII\")"
   ]
  },
  {
   "cell_type": "code",
   "execution_count": null,
   "id": "af2a0925",
   "metadata": {},
   "outputs": [],
   "source": []
  }
 ],
 "metadata": {
  "kernelspec": {
   "display_name": "Python 3 (ipykernel)",
   "language": "python",
   "name": "python3"
  },
  "language_info": {
   "codemirror_mode": {
    "name": "ipython",
    "version": 3
   },
   "file_extension": ".py",
   "mimetype": "text/x-python",
   "name": "python",
   "nbconvert_exporter": "python",
   "pygments_lexer": "ipython3",
   "version": "3.9.15"
  }
 },
 "nbformat": 4,
 "nbformat_minor": 5
}
