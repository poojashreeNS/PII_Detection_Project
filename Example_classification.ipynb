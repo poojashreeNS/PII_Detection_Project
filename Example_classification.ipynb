{
 "cells": [
  {
   "cell_type": "code",
   "execution_count": 23,
   "metadata": {},
   "outputs": [],
   "source": [
    "# !pip install openai\n",
    "# !pip install regex\n",
    "# !pip install appdirs\n",
    "# !pip install jinja2"
   ]
  },
  {
   "cell_type": "code",
   "execution_count": 24,
   "metadata": {},
   "outputs": [],
   "source": [
    "from piidetection import OpenAI\n",
    "from piidetection import Piidetector"
   ]
  },
  {
   "cell_type": "code",
   "execution_count": 25,
   "metadata": {},
   "outputs": [],
   "source": [
    "import json"
   ]
  },
  {
   "cell_type": "code",
   "execution_count": 26,
   "metadata": {},
   "outputs": [],
   "source": [
    "model = OpenAI(api_key=\"XXXXXXX\")\n",
    "nlp_prompter = Piidetector(model)"
   ]
  },
  {
   "cell_type": "code",
   "execution_count": 27,
   "metadata": {},
   "outputs": [],
   "source": [
    "data = json.load(open(\"E://PII_Detection_Project//PII_Detection_Project-b05ffa9d799699be9ad7452949d59b1db1335667//examples//data//binary_pii.json\",'r'))"
   ]
  },
  {
   "cell_type": "code",
   "execution_count": 28,
   "metadata": {},
   "outputs": [
    {
     "data": {
      "text/plain": [
       "19"
      ]
     },
     "execution_count": 28,
     "metadata": {},
     "output_type": "execute_result"
    }
   ],
   "source": [
    "len(data)"
   ]
  },
  {
   "cell_type": "code",
   "execution_count": 29,
   "metadata": {},
   "outputs": [
    {
     "name": "stdout",
     "output_type": "stream",
     "text": [
      "{'text': \"Tom Smith, a 28-year-old man from California, had his wallet stolen while shopping at the mall. His driver's license, credit cards, and social security card were inside. He immediately reported the theft to the police and his bank.\", 'labels': 'pii', 'score': '', 'complexity': ''} \n",
      "\n",
      "{'text': 'The sun was shining bright as Mary walked through the park. She loved the feeling of the warm sun on her skin and the smell of fresh cut grass. She decided to lay down on the grass and take a nap.', 'labels': 'non-pii', 'score': '', 'complexity': ''} \n",
      "\n",
      "{'text': 'Samantha Jones, a 35-year-old woman from New York, received a phone call from someone claiming to be from her bank. They asked for her name, address, and social security number to verify her account. She became suspicious and hung up, then reported the call to her bank.', 'labels': 'pii', 'score': '', 'complexity': ''} \n",
      "\n"
     ]
    }
   ],
   "source": [
    "examples = []\n",
    "for sample in data[:3]:\n",
    "    print(sample,\"\\n\")\n",
    "    examples.append((sample['text'],sample['labels']))"
   ]
  },
  {
   "cell_type": "code",
   "execution_count": 30,
   "metadata": {},
   "outputs": [
    {
     "name": "stdout",
     "output_type": "stream",
     "text": [
      "Binary Classificaion System\n",
      "You are a highly intelligent and accurate Binary Classification system. You take Passage as input and classify that as either pii or non-pii Category. Your output format is only [{'C':Category}] form, no other form.\n",
      "\n",
      "Examples:\n",
      "\n",
      "Input: Tom Smith, a 28-year-old man from California, had his wallet stolen while shopping at the mall. His driver's license, credit cards, and social security card were inside. He immediately reported the theft to the police and his bank.\n",
      "Output: [{'C': 'pii' }]\n",
      "\n",
      "Input: The sun was shining bright as Mary walked through the park. She loved the feeling of the warm sun on her skin and the smell of fresh cut grass. She decided to lay down on the grass and take a nap.\n",
      "Output: [{'C': 'non-pii' }]\n",
      "\n",
      "Input: Samantha Jones, a 35-year-old woman from New York, received a phone call from someone claiming to be from her bank. They asked for her name, address, and social security number to verify her account. She became suspicious and hung up, then reported the call to her bank.\n",
      "Output: [{'C': 'pii' }]\n",
      "\n",
      "Input: Michael Davis, a 20-year-old man from Texas, applied for a student loan. He provided his name, address, social security number, and other personal information to the lender. Unfortunately, the lender was hacked, and his information was exposed in a data breach. He had to monitor his credit report and freeze his accounts to prevent further damage.\n",
      "Output:\n"
     ]
    }
   ],
   "source": [
    "prompt = nlp_prompter.generate_prompt('binary_classification.jinja',\n",
    "                                      label_0=\"pii\",\n",
    "                                      label_1=\"non-pii\",\n",
    "                                      examples=examples,\n",
    "                                      text_input=\"Michael Davis, a 20-year-old man from Texas, applied for a student loan. He provided his name, address, social security number, and other personal information to the lender. Unfortunately, the lender was hacked, and his information was exposed in a data breach. He had to monitor his credit report and freeze his accounts to prevent further damage.\",\n",
    "                                     description=\"Binary Classificaion System\")\n",
    "print(prompt)"
   ]
  },
  {
   "cell_type": "code",
   "execution_count": 31,
   "metadata": {},
   "outputs": [],
   "source": [
    "output = nlp_prompter.fit('binary_classification.jinja',\n",
    "                 label_0=\"pii\",\n",
    "                 label_1=\"non-pii\",\n",
    "                 examples=examples,\n",
    "                 text_input=\"Michael Davis, a 20-year-old man from Texas, applied for a student loan. He provided his name, address, social security number, and other personal information to the lender. Unfortunately, the lender was hacked, and his information was exposed in a data breach. He had to monitor his credit report and freeze his accounts to prevent further damage.\",\n",
    "                 model_name=\"text-davinci-003\")"
   ]
  },
  {
   "cell_type": "code",
   "execution_count": 32,
   "metadata": {},
   "outputs": [
    {
     "data": {
      "text/plain": [
       "[{'C': 'pii'}]"
      ]
     },
     "execution_count": 32,
     "metadata": {},
     "output_type": "execute_result"
    }
   ],
   "source": [
    "eval(output['text'].strip())"
   ]
  }
 ],
 "metadata": {
  "kernelspec": {
   "display_name": "Python 3",
   "language": "python",
   "name": "python3"
  },
  "language_info": {
   "codemirror_mode": {
    "name": "ipython",
    "version": 3
   },
   "file_extension": ".py",
   "mimetype": "text/x-python",
   "name": "python",
   "nbconvert_exporter": "python",
   "pygments_lexer": "ipython3",
   "version": "3.10.10"
  },
  "orig_nbformat": 4
 },
 "nbformat": 4,
 "nbformat_minor": 2
}
