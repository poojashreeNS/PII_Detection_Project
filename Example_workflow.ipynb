{
 "cells": [
  {
   "cell_type": "code",
   "execution_count": 2,
   "id": "797f7b53",
   "metadata": {},
   "outputs": [],
   "source": [
    "from piidetection import OpenAI\n",
    "from piidetection import Piidetector"
   ]
  },
  {
   "cell_type": "code",
   "execution_count": 10,
   "id": "db6f8012",
   "metadata": {},
   "outputs": [],
   "source": [
    "sentence     =  \"\"\"The patient is a 93-year-old female with a medical  \t\t\t\t \n",
    "                history of chronic right hip pain, osteoporosis,\t\t\t\t\t\n",
    "                hypertension, depression, and chronic atrial\t\t\t\t\t\t\n",
    "                fibrillation admitted for evaluation and management\t\t\t\t\n",
    "                of severe nausea and vomiting and urinary tract\t\t\t\t\n",
    "                infection\"\"\"\n",
    "\n",
    "model        = OpenAI(\"UR_KEY\")\n",
    "nlp_prompter = Piidetector(model)\n",
    "\n",
    "one_shot = \"Leptomeningeal metastases (LM) occur in patients with breast cancer (BC) and lung cancer (LC). The cerebrospinal fluid (CSF) tumour microenvironment (TME) of LM patients is not well defined at a single-cell level. We did an analysis based on single-cell RNA sequencing (scRNA-seq) data and four patient-derived CSF samples of idiopathic intracranial hypertension (IIH)\"\n",
    "one_shot = [[one_shot, [{'E': 'DISEASE', 'W': 'Leptomeningeal metastases'}, {'E': 'DISEASE', 'W': 'breast cancer'}, {'E': 'DISEASE', 'W': 'lung cancer'}, {'E': 'BIOMARKER', 'W': 'cerebrospinal fluid'}, {'E': 'DISEASE', 'W': 'tumour microenvironment'}, {'E': 'TEST', 'W': 'single-cell RNA sequencing'}, {'E': 'DISEASE', 'W': 'idiopathic intracranial hypertension'}]]]\n",
    "\n",
    "\n",
    "result = nlp_prompter.fit('pii.jinja',\n",
    "                          domain      = 'medical',\n",
    "                          text_input  = sentence,\n",
    "                          examples    = one_shot,\n",
    "                          labels      = [\"SYMPTOM\", \"DISEASE\"])"
   ]
  },
  {
   "cell_type": "code",
   "execution_count": 11,
   "id": "bcfe91a4",
   "metadata": {},
   "outputs": [
    {
     "name": "stdout",
     "output_type": "stream",
     "text": [
      "{'prompt_tokens': 472, 'completion_tokens': 140, 'total_tokens': 612, 'text': \" [[{'E': 'SYMPTOM', 'W': 'chronic right hip pain'}, {'E': 'DISEASE', 'W': 'osteoporosis'}, {'E': 'DISEASE', 'W': 'hypertension'}, {'E': 'SYMPTOM', 'W': 'depression'}, {'E': 'DISEASE', 'W': 'chronic atrial fibrillation'}, {'E': 'SYMPTOM', 'W': 'severe nausea and vomiting'}, {'E': 'DISEASE', 'W': 'urinary tract infection'}]]\"}\n"
     ]
    }
   ],
   "source": [
    "print(result)"
   ]
  }
 ],
 "metadata": {
  "kernelspec": {
   "display_name": "Python 3 (ipykernel)",
   "language": "python",
   "name": "python3"
  },
  "language_info": {
   "codemirror_mode": {
    "name": "ipython",
    "version": 3
   },
   "file_extension": ".py",
   "mimetype": "text/x-python",
   "name": "python",
   "nbconvert_exporter": "python",
   "pygments_lexer": "ipython3",
   "version": "3.9.15"
  }
 },
 "nbformat": 4,
 "nbformat_minor": 5
}
